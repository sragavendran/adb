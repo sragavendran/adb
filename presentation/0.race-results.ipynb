{
 "cells": [
  {
   "cell_type": "code",
   "execution_count": 0,
   "metadata": {
    "application/vnd.databricks.v1+cell": {
     "cellMetadata": {
      "byteLimit": 2048000,
      "implicitDf": true,
      "rowLimit": 10000
     },
     "inputWidgets": {},
     "nuid": "ecc29856-ade6-4e32-b444-bac3e0bad830",
     "showTitle": false,
     "tableResultSettingsMap": {},
     "title": ""
    }
   },
   "outputs": [],
   "source": [
    "%sql\n",
    "CREATE DATABASE IF NOT EXISTS presentation\n",
    "LOCATION \"/mnt/presentation\";\n",
    "use presentation;"
   ]
  },
  {
   "cell_type": "code",
   "execution_count": 0,
   "metadata": {
    "application/vnd.databricks.v1+cell": {
     "cellMetadata": {
      "byteLimit": 2048000,
      "rowLimit": 10000
     },
     "inputWidgets": {},
     "nuid": "2d860234-cf9d-400e-aab7-79d02c408832",
     "showTitle": false,
     "tableResultSettingsMap": {},
     "title": ""
    }
   },
   "outputs": [],
   "source": [
    "%run \"../commons/configuration\""
   ]
  },
  {
   "cell_type": "code",
   "execution_count": 0,
   "metadata": {
    "application/vnd.databricks.v1+cell": {
     "cellMetadata": {
      "byteLimit": 2048000,
      "rowLimit": 10000
     },
     "inputWidgets": {},
     "nuid": "83121c60-b424-4e7b-b0be-db5b80d9d459",
     "showTitle": false,
     "tableResultSettingsMap": {},
     "title": ""
    }
   },
   "outputs": [],
   "source": [
    "races_df = spark.read.parquet(f\"{processed_mount_path}/races\")\\\n",
    "    .withColumnRenamed(\"name\",\"race_name\")\\\n",
    "    .withColumnRenamed(\"race_timestamp\",\"race_date\")"
   ]
  },
  {
   "cell_type": "code",
   "execution_count": 0,
   "metadata": {
    "application/vnd.databricks.v1+cell": {
     "cellMetadata": {
      "byteLimit": 2048000,
      "rowLimit": 10000
     },
     "inputWidgets": {},
     "nuid": "76771b86-e3d6-4e88-b39f-c9036a820297",
     "showTitle": false,
     "tableResultSettingsMap": {},
     "title": ""
    }
   },
   "outputs": [],
   "source": [
    "circuits_df = spark.read.parquet(f\"{processed_mount_path}/circuits\")\\\n",
    "    .withColumnRenamed(\"location\",\"circuit_location\")"
   ]
  },
  {
   "cell_type": "code",
   "execution_count": 0,
   "metadata": {
    "application/vnd.databricks.v1+cell": {
     "cellMetadata": {
      "byteLimit": 2048000,
      "rowLimit": 10000
     },
     "inputWidgets": {},
     "nuid": "873f513c-0ec5-4d3f-88fb-70bc713d794c",
     "showTitle": false,
     "tableResultSettingsMap": {},
     "title": ""
    }
   },
   "outputs": [],
   "source": [
    "results_df = spark.read.parquet(f\"{processed_mount_path}/results\")\\\n",
    "    .withColumnRenamed(\"time\",\"race_time\")"
   ]
  },
  {
   "cell_type": "code",
   "execution_count": 0,
   "metadata": {
    "application/vnd.databricks.v1+cell": {
     "cellMetadata": {
      "byteLimit": 2048000,
      "rowLimit": 10000
     },
     "inputWidgets": {},
     "nuid": "cd0eaeb1-99ad-4d2d-a2b9-c14fb50307c6",
     "showTitle": false,
     "tableResultSettingsMap": {},
     "title": ""
    }
   },
   "outputs": [],
   "source": [
    "constructors_df = spark.read.parquet(f\"{processed_mount_path}/constructors\")\\\n",
    "    .withColumnRenamed(\"name\",\"team\")\n",
    "    "
   ]
  },
  {
   "cell_type": "code",
   "execution_count": 0,
   "metadata": {
    "application/vnd.databricks.v1+cell": {
     "cellMetadata": {
      "byteLimit": 2048000,
      "rowLimit": 10000
     },
     "inputWidgets": {},
     "nuid": "0a95ef17-dfb5-4654-a774-e4971464d449",
     "showTitle": false,
     "tableResultSettingsMap": {},
     "title": ""
    }
   },
   "outputs": [],
   "source": [
    "drivers_df = spark.read.parquet(f\"{processed_mount_path}/drivers\")\\\n",
    "    .withColumnRenamed(\"name\",\"driver_name\")\\\n",
    "    .withColumnRenamed(\"nationality\",\"driver_nationality\")\\\n",
    "    .withColumnRenamed(\"number\",\"driver_number\")"
   ]
  },
  {
   "cell_type": "code",
   "execution_count": 0,
   "metadata": {
    "application/vnd.databricks.v1+cell": {
     "cellMetadata": {
      "byteLimit": 2048000,
      "rowLimit": 10000
     },
     "inputWidgets": {},
     "nuid": "6d4b50de-c764-4a10-b2b9-885a6ecb69ba",
     "showTitle": false,
     "tableResultSettingsMap": {},
     "title": ""
    }
   },
   "outputs": [],
   "source": [
    "races_circuits_df = races_df.join(circuits_df, races_df.circuit_id == circuits_df.circuit_id, \"inner\")\\\n",
    "    .select(races_df.race_id, races_df.race_year, races_df.race_name, races_df.race_date, circuits_df.circuit_location)"
   ]
  },
  {
   "cell_type": "code",
   "execution_count": 0,
   "metadata": {
    "application/vnd.databricks.v1+cell": {
     "cellMetadata": {
      "byteLimit": 2048000,
      "rowLimit": 10000
     },
     "inputWidgets": {},
     "nuid": "3067da88-73d8-4e54-800d-93baae7989aa",
     "showTitle": false,
     "tableResultSettingsMap": {},
     "title": ""
    }
   },
   "outputs": [],
   "source": [
    "race_results_df = results_df.join(races_circuits_df, results_df.race_id == races_circuits_df.race_id)\\\n",
    "                    .join(drivers_df, results_df.driver_id == drivers_df.driver_id)\\\n",
    "                    .join(constructors_df, results_df.constructor_id == constructors_df.constructor_id)"
   ]
  },
  {
   "cell_type": "code",
   "execution_count": 0,
   "metadata": {
    "application/vnd.databricks.v1+cell": {
     "cellMetadata": {
      "byteLimit": 2048000,
      "rowLimit": 10000
     },
     "inputWidgets": {},
     "nuid": "8a2a307a-35d4-4a82-9ddd-cc4dd876ddd4",
     "showTitle": false,
     "tableResultSettingsMap": {},
     "title": ""
    }
   },
   "outputs": [],
   "source": [
    "from pyspark.sql.functions import current_timestamp\n",
    "\n",
    "final_df = race_results_df.select(\"race_year\",\"race_name\",\"race_date\",\"circuit_location\",\"driver_name\",\"driver_number\",\n",
    "                                  \"driver_nationality\", \"team\",\"grid\",\"fastest_lap\",\"race_time\",\"points\",\"position\")\\\n",
    "                            .withColumn(\"created_date\", current_timestamp())"
   ]
  },
  {
   "cell_type": "code",
   "execution_count": 0,
   "metadata": {
    "application/vnd.databricks.v1+cell": {
     "cellMetadata": {
      "byteLimit": 2048000,
      "rowLimit": 10000
     },
     "inputWidgets": {},
     "nuid": "93fe3f89-ed11-4b4a-8cde-d5c5fd9b3505",
     "showTitle": false,
     "tableResultSettingsMap": {},
     "title": ""
    }
   },
   "outputs": [],
   "source": [
    "#final_df.write.parquet(f\"{presentation_mount_path}/race_results\", mode=\"overwrite\")\n",
    "final_df.write.mode(\"overwrite\").format(\"parquet\").saveAsTable(\"presentation.race_results\")"
   ]
  }
 ],
 "metadata": {
  "application/vnd.databricks.v1+notebook": {
   "computePreferences": null,
   "dashboards": [],
   "environmentMetadata": {
    "base_environment": "",
    "environment_version": "2"
   },
   "inputWidgetPreferences": null,
   "language": "python",
   "notebookMetadata": {
    "mostRecentlyExecutedCommandWithImplicitDF": {
     "commandId": 8273500279712058,
     "dataframes": [
      "_sqldf"
     ]
    },
    "pythonIndentUnit": 4
   },
   "notebookName": "0.race-results",
   "widgets": {}
  },
  "language_info": {
   "name": "python"
  }
 },
 "nbformat": 4,
 "nbformat_minor": 0
}
