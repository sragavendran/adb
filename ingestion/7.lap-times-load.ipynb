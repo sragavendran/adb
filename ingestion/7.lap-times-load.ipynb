{
 "cells": [
  {
   "cell_type": "code",
   "execution_count": 0,
   "metadata": {
    "application/vnd.databricks.v1+cell": {
     "cellMetadata": {
      "byteLimit": 2048000,
      "rowLimit": 10000
     },
     "inputWidgets": {},
     "nuid": "a9b60ee4-0958-4703-820b-f12858ebcb16",
     "showTitle": false,
     "tableResultSettingsMap": {},
     "title": ""
    }
   },
   "outputs": [],
   "source": [
    "%run \"../commons/configuration\""
   ]
  },
  {
   "cell_type": "code",
   "execution_count": 0,
   "metadata": {
    "application/vnd.databricks.v1+cell": {
     "cellMetadata": {
      "byteLimit": 2048000,
      "rowLimit": 10000
     },
     "inputWidgets": {},
     "nuid": "8cc88fcc-9759-425c-b0d0-a419ebcb1764",
     "showTitle": false,
     "tableResultSettingsMap": {},
     "title": ""
    }
   },
   "outputs": [],
   "source": [
    "%run \"../commons/common_functions\""
   ]
  },
  {
   "cell_type": "code",
   "execution_count": 0,
   "metadata": {
    "application/vnd.databricks.v1+cell": {
     "cellMetadata": {
      "byteLimit": 2048000,
      "rowLimit": 10000
     },
     "inputWidgets": {},
     "nuid": "d92ab7b4-d62b-4b15-a6ec-5693024daabe",
     "showTitle": false,
     "tableResultSettingsMap": {},
     "title": ""
    }
   },
   "outputs": [],
   "source": [
    "dbutils.widgets.text(\"env_name\",\"DEV\")\n",
    "p_env_name = dbutils.widgets.get(\"env_name\")"
   ]
  },
  {
   "cell_type": "code",
   "execution_count": 0,
   "metadata": {
    "application/vnd.databricks.v1+cell": {
     "cellMetadata": {
      "byteLimit": 2048000,
      "rowLimit": 10000
     },
     "inputWidgets": {},
     "nuid": "666c64cf-d90f-4369-bed5-3593c160f91c",
     "showTitle": false,
     "tableResultSettingsMap": {},
     "title": ""
    }
   },
   "outputs": [],
   "source": [
    "from pyspark.sql.functions import current_timestamp\n",
    "from pyspark.sql.functions import to_timestamp, concat, lit, col\n",
    "from pyspark.sql.types import *\n",
    "\n",
    "\n",
    "lap_times_schema = StructType([StructField(\"raceId\", IntegerType(), False), \n",
    "                            StructField(\"driverId\", IntegerType(), True), \n",
    "                            StructField(\"lap\", IntegerType(), True),\n",
    "                            StructField(\"position\", IntegerType(), True),\n",
    "                            StructField(\"time\", StringType(), True),\n",
    "                            StructField(\"milliseconds\", IntegerType(), True)])\n",
    "\n",
    "lap_times_df = spark.read.csv(f\"{raw_mount_path}/lap_times/\", schema=lap_times_schema)\\\n",
    "    .withColumnRenamed(\"raceId\", \"race_id\")\\\n",
    "    .withColumnRenamed(\"driverId\", \"driver_id\")\\\n",
    "    .withColumn(\"data_source\",lit(p_env_name))\n",
    "    \n"
   ]
  },
  {
   "cell_type": "code",
   "execution_count": 0,
   "metadata": {
    "application/vnd.databricks.v1+cell": {
     "cellMetadata": {
      "byteLimit": 2048000,
      "rowLimit": 10000
     },
     "inputWidgets": {},
     "nuid": "f67b1fe0-2e01-4d7c-a38a-be14334f8b82",
     "showTitle": false,
     "tableResultSettingsMap": {},
     "title": ""
    }
   },
   "outputs": [],
   "source": [
    "lap_times_df_v2 =  add_ingestion_date(lap_times_df)"
   ]
  },
  {
   "cell_type": "code",
   "execution_count": 0,
   "metadata": {
    "application/vnd.databricks.v1+cell": {
     "cellMetadata": {
      "byteLimit": 2048000,
      "rowLimit": 10000
     },
     "inputWidgets": {},
     "nuid": "9fbea483-f4b6-4a40-acd5-eb34de34018e",
     "showTitle": false,
     "tableResultSettingsMap": {},
     "title": ""
    }
   },
   "outputs": [],
   "source": [
    "#lap_times_df_v2.write.parquet(f\"{processed_mount_path}/lap_times\", mode=\"overwrite\")\n",
    "lap_times_df_v2.write.mode(\"overwrite\").format(\"parquet\").saveAsTable(\"processed.lap_times\")"
   ]
  },
  {
   "cell_type": "code",
   "execution_count": 0,
   "metadata": {
    "application/vnd.databricks.v1+cell": {
     "cellMetadata": {},
     "inputWidgets": {},
     "nuid": "e1766de9-4176-455e-969c-fee8d7ae7992",
     "showTitle": false,
     "tableResultSettingsMap": {},
     "title": ""
    }
   },
   "outputs": [],
   "source": [
    "dbutils.notebook.exit(\"Success\")"
   ]
  }
 ],
 "metadata": {
  "application/vnd.databricks.v1+notebook": {
   "computePreferences": null,
   "dashboards": [],
   "environmentMetadata": {
    "base_environment": "",
    "environment_version": "2"
   },
   "inputWidgetPreferences": null,
   "language": "python",
   "notebookMetadata": {
    "pythonIndentUnit": 4
   },
   "notebookName": "7.lap-times-load",
   "widgets": {
    "env_name": {
     "currentValue": "DEV",
     "nuid": "f6b02e67-86c0-484e-bdea-86ad26f81521",
     "typedWidgetInfo": {
      "autoCreated": false,
      "defaultValue": "DEV",
      "label": null,
      "name": "env_name",
      "options": {
       "widgetDisplayType": "Text",
       "validationRegex": null
      },
      "parameterDataType": "String"
     },
     "widgetInfo": {
      "widgetType": "text",
      "defaultValue": "DEV",
      "label": null,
      "name": "env_name",
      "options": {
       "widgetType": "text",
       "autoCreated": false,
       "validationRegex": null
      }
     }
    }
   }
  },
  "language_info": {
   "name": "python"
  }
 },
 "nbformat": 4,
 "nbformat_minor": 0
}
