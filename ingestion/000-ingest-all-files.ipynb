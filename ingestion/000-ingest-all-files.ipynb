{
 "cells": [
  {
   "cell_type": "code",
   "execution_count": 0,
   "metadata": {
    "application/vnd.databricks.v1+cell": {
     "cellMetadata": {
      "byteLimit": 2048000,
      "rowLimit": 10000
     },
     "inputWidgets": {},
     "nuid": "68ed660e-9f16-4bf3-95b5-bf1802406990",
     "showTitle": false,
     "tableResultSettingsMap": {},
     "title": ""
    }
   },
   "outputs": [],
   "source": [
    "dbutils.widgets.text(\"env_name\",\"DEV\")\n",
    "p_env_name = dbutils.widgets.get(\"env_name\")"
   ]
  },
  {
   "cell_type": "code",
   "execution_count": 0,
   "metadata": {
    "application/vnd.databricks.v1+cell": {
     "cellMetadata": {
      "byteLimit": 2048000,
      "rowLimit": 10000
     },
     "inputWidgets": {},
     "nuid": "1d74d2b1-14d3-4f0e-9804-5ceca7a36bfd",
     "showTitle": false,
     "tableResultSettingsMap": {},
     "title": ""
    }
   },
   "outputs": [],
   "source": [
    "dbutils.notebook.run(\"1.circuits-load\", 0, {\"env_name\": p_env_name})\n",
    "dbutils.notebook.run(\"2.races-load\", 0, {\"env_name\": p_env_name})\n",
    "dbutils.notebook.run(\"3.constructors-load\", 0, {\"env_name\": p_env_name})\n",
    "dbutils.notebook.run(\"4.drivers-load\", 0, {\"env_name\": p_env_name})\n",
    "dbutils.notebook.run(\"5.results-load\", 0, {\"env_name\": p_env_name})\n",
    "dbutils.notebook.run(\"6.pitstops-load\", 0, {\"env_name\": p_env_name})\n",
    "dbutils.notebook.run(\"7.lap-times-load\", 0, {\"env_name\": p_env_name})\n",
    "dbutils.notebook.run(\"8.qualifying-load\", 0, {\"env_name\": p_env_name})"
   ]
  }
 ],
 "metadata": {
  "application/vnd.databricks.v1+notebook": {
   "computePreferences": null,
   "dashboards": [],
   "environmentMetadata": {
    "base_environment": "",
    "environment_version": "2"
   },
   "inputWidgetPreferences": null,
   "language": "python",
   "notebookMetadata": {
    "pythonIndentUnit": 4
   },
   "notebookName": "000-ingest-all-files",
   "widgets": {
    "env_name": {
     "currentValue": "PROD",
     "nuid": "1aa7bbdf-aa1b-422e-82a9-50f1d915e54f",
     "typedWidgetInfo": {
      "autoCreated": false,
      "defaultValue": "DEV",
      "label": null,
      "name": "env_name",
      "options": {
       "widgetDisplayType": "Text",
       "validationRegex": null
      },
      "parameterDataType": "String"
     },
     "widgetInfo": {
      "widgetType": "text",
      "defaultValue": "DEV",
      "label": null,
      "name": "env_name",
      "options": {
       "widgetType": "text",
       "autoCreated": null,
       "validationRegex": null
      }
     }
    }
   }
  },
  "language_info": {
   "name": "python"
  }
 },
 "nbformat": 4,
 "nbformat_minor": 0
}
