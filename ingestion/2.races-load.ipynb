{
 "cells": [
  {
   "cell_type": "code",
   "execution_count": 0,
   "metadata": {
    "application/vnd.databricks.v1+cell": {
     "cellMetadata": {
      "byteLimit": 2048000,
      "rowLimit": 10000
     },
     "inputWidgets": {},
     "nuid": "729cf93a-fcd8-4b56-ba03-bbf172a60785",
     "showTitle": false,
     "tableResultSettingsMap": {},
     "title": ""
    }
   },
   "outputs": [],
   "source": [
    "%run \"../commons/configuration\""
   ]
  },
  {
   "cell_type": "code",
   "execution_count": 0,
   "metadata": {
    "application/vnd.databricks.v1+cell": {
     "cellMetadata": {
      "byteLimit": 2048000,
      "rowLimit": 10000
     },
     "inputWidgets": {},
     "nuid": "c099672f-f0ba-482f-a034-d2db50ba96cc",
     "showTitle": false,
     "tableResultSettingsMap": {},
     "title": ""
    }
   },
   "outputs": [],
   "source": [
    "%run \"../commons/common_functions\""
   ]
  },
  {
   "cell_type": "code",
   "execution_count": 0,
   "metadata": {
    "application/vnd.databricks.v1+cell": {
     "cellMetadata": {
      "byteLimit": 2048000,
      "rowLimit": 10000
     },
     "inputWidgets": {},
     "nuid": "a6457301-67b0-4c1f-8a01-4cc67d2397aa",
     "showTitle": false,
     "tableResultSettingsMap": {},
     "title": ""
    }
   },
   "outputs": [],
   "source": [
    "dbutils.widgets.text(\"env_name\",\"DEV\")\n",
    "p_env_name = dbutils.widgets.get(\"env_name\")"
   ]
  },
  {
   "cell_type": "code",
   "execution_count": 0,
   "metadata": {
    "application/vnd.databricks.v1+cell": {
     "cellMetadata": {
      "byteLimit": 2048000,
      "rowLimit": 10000
     },
     "inputWidgets": {},
     "nuid": "666c64cf-d90f-4369-bed5-3593c160f91c",
     "showTitle": false,
     "tableResultSettingsMap": {},
     "title": ""
    }
   },
   "outputs": [],
   "source": [
    "from pyspark.sql.functions import current_timestamp\n",
    "from pyspark.sql.functions import to_timestamp, concat, lit, col\n",
    "\n",
    "races_df = spark.read.csv(f\"{raw_mount_path}/races.csv\", \n",
    "                             header=True, \n",
    "                             inferSchema=True)\\\n",
    "                                .withColumnRenamed(\"raceId\", \"race_id\")\\\n",
    "                                .withColumnRenamed(\"year\", \"race_year\")\\\n",
    "                                .withColumnRenamed(\"circuitId\", \"circuit_id\")\\\n",
    "                                .withColumn( \"race_timestamp\", to_timestamp(concat(col(\"date\"), lit(\" \"), col(\"time\")),\"yyyy-MM-dd HH:mm:ss\"))\\\n",
    "                                .drop(\"url\")\\\n",
    "                                .withColumn(\"data_source\",lit(p_env_name))"
   ]
  },
  {
   "cell_type": "code",
   "execution_count": 0,
   "metadata": {
    "application/vnd.databricks.v1+cell": {
     "cellMetadata": {
      "byteLimit": 2048000,
      "rowLimit": 10000
     },
     "inputWidgets": {},
     "nuid": "ef9db693-22e1-480d-93e0-15a1a430c1f2",
     "showTitle": false,
     "tableResultSettingsMap": {},
     "title": ""
    }
   },
   "outputs": [],
   "source": [
    "races_df_v2 = add_ingestion_date(races_df)\n",
    "display(races_df_v2)"
   ]
  },
  {
   "cell_type": "code",
   "execution_count": 0,
   "metadata": {
    "application/vnd.databricks.v1+cell": {
     "cellMetadata": {
      "byteLimit": 2048000,
      "rowLimit": 10000
     },
     "inputWidgets": {},
     "nuid": "9fbea483-f4b6-4a40-acd5-eb34de34018e",
     "showTitle": false,
     "tableResultSettingsMap": {},
     "title": ""
    }
   },
   "outputs": [],
   "source": [
    "#races_df_v2.write.parquet(f\"{processed_mount_path}/races\", mode=\"overwrite\", partitionBy=[\"race_year\"])\n",
    "races_df_v2.write.partitionBy(\"race_year\").mode(\"overwrite\").format(\"parquet\").saveAsTable(\"processed.races\")"
   ]
  },
  {
   "cell_type": "code",
   "execution_count": 0,
   "metadata": {
    "application/vnd.databricks.v1+cell": {
     "cellMetadata": {
      "byteLimit": 2048000,
      "rowLimit": 10000
     },
     "inputWidgets": {},
     "nuid": "578d8ab8-0e65-4c63-bae1-88a8fee3ab2d",
     "showTitle": false,
     "tableResultSettingsMap": {},
     "title": ""
    }
   },
   "outputs": [],
   "source": [
    "dbutils.notebook.exit(\"Success\")"
   ]
  }
 ],
 "metadata": {
  "application/vnd.databricks.v1+notebook": {
   "computePreferences": null,
   "dashboards": [],
   "environmentMetadata": {
    "base_environment": "",
    "environment_version": "2"
   },
   "inputWidgetPreferences": null,
   "language": "python",
   "notebookMetadata": {
    "pythonIndentUnit": 4
   },
   "notebookName": "2.races-load",
   "widgets": {
    "env_name": {
     "currentValue": "DEV",
     "nuid": "81f029a0-39c8-49f0-9694-2c91507b2aa9",
     "typedWidgetInfo": {
      "autoCreated": false,
      "defaultValue": "DEV",
      "label": null,
      "name": "env_name",
      "options": {
       "widgetDisplayType": "Text",
       "validationRegex": null
      },
      "parameterDataType": "String"
     },
     "widgetInfo": {
      "widgetType": "text",
      "defaultValue": "DEV",
      "label": null,
      "name": "env_name",
      "options": {
       "widgetType": "text",
       "autoCreated": null,
       "validationRegex": null
      }
     }
    }
   }
  },
  "language_info": {
   "name": "python"
  }
 },
 "nbformat": 4,
 "nbformat_minor": 0
}
