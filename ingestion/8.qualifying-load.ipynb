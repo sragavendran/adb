{
 "cells": [
  {
   "cell_type": "code",
   "execution_count": 0,
   "metadata": {
    "application/vnd.databricks.v1+cell": {
     "cellMetadata": {
      "byteLimit": 2048000,
      "rowLimit": 10000
     },
     "inputWidgets": {},
     "nuid": "ded15628-5c45-4094-9fb0-a36b69b6fd96",
     "showTitle": false,
     "tableResultSettingsMap": {},
     "title": ""
    }
   },
   "outputs": [],
   "source": [
    "%run \"../commons/common_functions\""
   ]
  },
  {
   "cell_type": "code",
   "execution_count": 0,
   "metadata": {
    "application/vnd.databricks.v1+cell": {
     "cellMetadata": {
      "byteLimit": 2048000,
      "rowLimit": 10000
     },
     "inputWidgets": {},
     "nuid": "c2922b0b-d5e4-4093-a011-9c45c7d831da",
     "showTitle": false,
     "tableResultSettingsMap": {},
     "title": ""
    }
   },
   "outputs": [],
   "source": [
    "%run \"../commons/configuration\""
   ]
  },
  {
   "cell_type": "code",
   "execution_count": 0,
   "metadata": {
    "application/vnd.databricks.v1+cell": {
     "cellMetadata": {
      "byteLimit": 2048000,
      "rowLimit": 10000
     },
     "inputWidgets": {},
     "nuid": "60c34fd2-32d0-4e58-b83d-fb4551b5cb1b",
     "showTitle": false,
     "tableResultSettingsMap": {},
     "title": ""
    }
   },
   "outputs": [],
   "source": [
    "dbutils.widgets.text(\"env_name\",\"DEV\")\n",
    "p_env_name = dbutils.widgets.get(\"env_name\")"
   ]
  },
  {
   "cell_type": "code",
   "execution_count": 0,
   "metadata": {
    "application/vnd.databricks.v1+cell": {
     "cellMetadata": {
      "byteLimit": 2048000,
      "rowLimit": 10000
     },
     "inputWidgets": {},
     "nuid": "666c64cf-d90f-4369-bed5-3593c160f91c",
     "showTitle": false,
     "tableResultSettingsMap": {},
     "title": ""
    }
   },
   "outputs": [],
   "source": [
    "from pyspark.sql.functions import current_timestamp\n",
    "from pyspark.sql.functions import to_timestamp, concat, lit, col\n",
    "from pyspark.sql.types import *\n",
    "\n",
    "\n",
    "qualifying_schema = StructType([StructField(\"qualifyId\", IntegerType(), False), \n",
    "                            StructField(\"raceId\", IntegerType(), True), \n",
    "                            StructField(\"driverId\", IntegerType(), True), \n",
    "                            StructField(\"constructorId\", IntegerType(), True), \n",
    "                            StructField(\"number\", IntegerType(), True),\n",
    "                            StructField(\"position\", IntegerType(), True),\n",
    "                            StructField(\"q1\", StringType(), True),\n",
    "                            StructField(\"q2\", StringType(), True),\n",
    "                            StructField(\"q3\", StringType(), True),\n",
    "                            ])\n",
    "\n",
    "qualifying_df = spark.read.json(f\"{raw_mount_path}/qualifying/\", schema=qualifying_schema, multiLine=True)\\\n",
    "    .withColumnRenamed(\"raceId\", \"race_id\")\\\n",
    "    .withColumnRenamed(\"driverId\", \"driver_id\")\\\n",
    "    .withColumnRenamed(\"constructorId\", \"constructor_id\")\\\n",
    "    .withColumnRenamed(\"qualifyId\", \"qualify_id\")\\\n",
    "    .withColumn(\"data_source\",lit(p_env_name))\n"
   ]
  },
  {
   "cell_type": "code",
   "execution_count": 0,
   "metadata": {
    "application/vnd.databricks.v1+cell": {
     "cellMetadata": {
      "byteLimit": 2048000,
      "rowLimit": 10000
     },
     "inputWidgets": {},
     "nuid": "03c8b6b0-fd17-4681-bb61-039fdc3d2894",
     "showTitle": false,
     "tableResultSettingsMap": {},
     "title": ""
    }
   },
   "outputs": [],
   "source": [
    "qualifying_df_v2 = add_ingestion_date(qualifying_df)"
   ]
  },
  {
   "cell_type": "code",
   "execution_count": 0,
   "metadata": {
    "application/vnd.databricks.v1+cell": {
     "cellMetadata": {
      "byteLimit": 2048000,
      "rowLimit": 10000
     },
     "inputWidgets": {},
     "nuid": "9fbea483-f4b6-4a40-acd5-eb34de34018e",
     "showTitle": false,
     "tableResultSettingsMap": {},
     "title": ""
    }
   },
   "outputs": [],
   "source": [
    "#qualifying_df_v2.write.parquet(f\"{processed_mount_path}/qualifying\", mode=\"overwrite\")\n",
    "qualifying_df_v2.write.mode(\"overwrite\").format(\"parquet\").saveAsTable(\"processed.qualifying\")"
   ]
  },
  {
   "cell_type": "code",
   "execution_count": 0,
   "metadata": {
    "application/vnd.databricks.v1+cell": {
     "cellMetadata": {},
     "inputWidgets": {},
     "nuid": "dcd958f8-aea0-47b7-bd9c-b75838c57c41",
     "showTitle": false,
     "tableResultSettingsMap": {},
     "title": ""
    }
   },
   "outputs": [],
   "source": [
    "dbutils.notebook.exit(\"Success\")"
   ]
  }
 ],
 "metadata": {
  "application/vnd.databricks.v1+notebook": {
   "computePreferences": null,
   "dashboards": [],
   "environmentMetadata": {
    "base_environment": "",
    "environment_version": "2"
   },
   "inputWidgetPreferences": null,
   "language": "python",
   "notebookMetadata": {
    "pythonIndentUnit": 4
   },
   "notebookName": "8.qualifying-load",
   "widgets": {
    "env_name": {
     "currentValue": "DEV",
     "nuid": "907a12ff-82ef-4ae5-9f33-4bb29713238c",
     "typedWidgetInfo": {
      "autoCreated": false,
      "defaultValue": "DEV",
      "label": null,
      "name": "env_name",
      "options": {
       "widgetDisplayType": "Text",
       "validationRegex": null
      },
      "parameterDataType": "String"
     },
     "widgetInfo": {
      "widgetType": "text",
      "defaultValue": "DEV",
      "label": null,
      "name": "env_name",
      "options": {
       "widgetType": "text",
       "autoCreated": false,
       "validationRegex": null
      }
     }
    }
   }
  },
  "language_info": {
   "name": "python"
  }
 },
 "nbformat": 4,
 "nbformat_minor": 0
}
