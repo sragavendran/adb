{
 "cells": [
  {
   "cell_type": "markdown",
   "metadata": {
    "application/vnd.databricks.v1+cell": {
     "cellMetadata": {
      "byteLimit": 2048000,
      "rowLimit": 10000
     },
     "inputWidgets": {},
     "nuid": "fca44a31-d7f2-4a5b-ac27-00d1a0aabb2d",
     "showTitle": false,
     "tableResultSettingsMap": {},
     "title": ""
    }
   },
   "source": [
    "**Create constructors table**"
   ]
  },
  {
   "cell_type": "code",
   "execution_count": 0,
   "metadata": {
    "application/vnd.databricks.v1+cell": {
     "cellMetadata": {
      "byteLimit": 2048000,
      "implicitDf": true,
      "rowLimit": 10000
     },
     "inputWidgets": {},
     "nuid": "702de0de-9a95-4191-814f-8e1088b5c31f",
     "showTitle": false,
     "tableResultSettingsMap": {},
     "title": ""
    }
   },
   "outputs": [],
   "source": [
    "%sql\n",
    "USE CATALOG hive_metastore;\n",
    "CREATE DATABASE IF NOT EXISTS raw;\n",
    "USE raw;"
   ]
  },
  {
   "cell_type": "code",
   "execution_count": 0,
   "metadata": {
    "application/vnd.databricks.v1+cell": {
     "cellMetadata": {
      "byteLimit": 2048000,
      "implicitDf": true,
      "rowLimit": 10000
     },
     "inputWidgets": {},
     "nuid": "44093f5b-9868-46a8-90ee-7694ba77d313",
     "showTitle": false,
     "tableResultSettingsMap": {},
     "title": ""
    }
   },
   "outputs": [],
   "source": [
    "%sql\n",
    "DROP TABLE IF EXISTS constructors;\n",
    "CREATE TABLE IF NOT EXISTS constructors\n",
    "(\n",
    "   constructorId INT,\n",
    " constructorRef STRING,\n",
    " name           STRING,\n",
    " nationality    STRING,\n",
    " url            STRING\n",
    ")\n",
    "USING json\n",
    "OPTIONS (path \"/mnt/raw/constructors.json\", header \"true\");"
   ]
  },
  {
   "cell_type": "code",
   "execution_count": 0,
   "metadata": {
    "application/vnd.databricks.v1+cell": {
     "cellMetadata": {
      "byteLimit": 2048000,
      "implicitDf": true,
      "rowLimit": 10000
     },
     "inputWidgets": {},
     "nuid": "7e441123-ccac-4f2d-86d4-04485b495714",
     "showTitle": false,
     "tableResultSettingsMap": {},
     "title": ""
    }
   },
   "outputs": [],
   "source": [
    "%sql\n",
    "select * from constructors"
   ]
  },
  {
   "cell_type": "markdown",
   "metadata": {
    "application/vnd.databricks.v1+cell": {
     "cellMetadata": {
      "byteLimit": 2048000,
      "rowLimit": 10000
     },
     "inputWidgets": {},
     "nuid": "8410c280-93b0-4bb4-8313-80953ab435e6",
     "showTitle": false,
     "tableResultSettingsMap": {},
     "title": ""
    }
   },
   "source": [
    "**Create drivers table**"
   ]
  },
  {
   "cell_type": "code",
   "execution_count": 0,
   "metadata": {
    "application/vnd.databricks.v1+cell": {
     "cellMetadata": {
      "byteLimit": 2048000,
      "implicitDf": true,
      "rowLimit": 10000
     },
     "inputWidgets": {},
     "nuid": "cf6caf6c-742e-46d0-bdce-0fe3e911e65b",
     "showTitle": false,
     "tableResultSettingsMap": {},
     "title": ""
    }
   },
   "outputs": [],
   "source": [
    "%sql\n",
    "DROP TABLE IF EXISTS drivers;\n",
    "CREATE TABLE IF NOT EXISTS drivers\n",
    "(\n",
    "  driverId   INT,\n",
    "  driverRef  STRING,\n",
    "number     INT,\n",
    "code       STRING,\n",
    "name STRUCT<forename: STRING, surname: STRING>,\n",
    "\n",
    "dob        DATE,\n",
    "nationality STRING,\n",
    "url       STRING \n",
    ")\n",
    "USING json\n",
    "OPTIONS (path \"/mnt/raw/drivers.json\", header \"true\");"
   ]
  },
  {
   "cell_type": "code",
   "execution_count": 0,
   "metadata": {
    "application/vnd.databricks.v1+cell": {
     "cellMetadata": {
      "byteLimit": 2048000,
      "implicitDf": true,
      "rowLimit": 10000
     },
     "inputWidgets": {},
     "nuid": "8401d8b4-ac7d-4959-8d69-b9668a1cbd63",
     "showTitle": false,
     "tableResultSettingsMap": {},
     "title": ""
    }
   },
   "outputs": [],
   "source": [
    "%sql\n",
    "SELECT * FROM DRIVERS"
   ]
  },
  {
   "cell_type": "markdown",
   "metadata": {
    "application/vnd.databricks.v1+cell": {
     "cellMetadata": {
      "byteLimit": 2048000,
      "rowLimit": 10000
     },
     "inputWidgets": {},
     "nuid": "1812b854-006e-4190-bdb2-a3f5a7ef46b9",
     "showTitle": false,
     "tableResultSettingsMap": {},
     "title": ""
    }
   },
   "source": [
    "**Create results table**"
   ]
  },
  {
   "cell_type": "code",
   "execution_count": 0,
   "metadata": {
    "application/vnd.databricks.v1+cell": {
     "cellMetadata": {
      "byteLimit": 2048000,
      "implicitDf": true,
      "rowLimit": 10000
     },
     "inputWidgets": {},
     "nuid": "e738eb84-cb85-40a9-a059-890ab0df706f",
     "showTitle": false,
     "tableResultSettingsMap": {},
     "title": ""
    }
   },
   "outputs": [],
   "source": [
    "%sql\n",
    "DROP TABLE IF EXISTS results;\n",
    "CREATE TABLE IF NOT EXISTS results\n",
    "(\n",
    "  resultId       INT,\n",
    "raceId       INT,         \n",
    "driverId       INT,       \n",
    "constructorId       INT,  \n",
    "number       INT,         \n",
    "grid       INT,           \n",
    "position       INT,       \n",
    "positionText   STRING,\n",
    "positionOrder       INT,  \n",
    "points       INT,         \n",
    "laps       INT,           \n",
    "time STRING,           \n",
    "milliseconds       INT,   \n",
    "fastestLap       INT,     \n",
    "rank       INT,           \n",
    "fastestLapTime       STRING, \n",
    "fastestLapSpeed FLOAT,\n",
    "statusId       STRING\n",
    ")\n",
    "USING JSON\n",
    "OPTIONS (path \"/mnt/raw/results.json\", header \"true\");"
   ]
  },
  {
   "cell_type": "code",
   "execution_count": 0,
   "metadata": {
    "application/vnd.databricks.v1+cell": {
     "cellMetadata": {
      "byteLimit": 2048000,
      "implicitDf": true,
      "rowLimit": 10000
     },
     "inputWidgets": {},
     "nuid": "c7c8de6d-97a6-4493-9c5e-4f4b87e93bb6",
     "showTitle": false,
     "tableResultSettingsMap": {},
     "title": ""
    }
   },
   "outputs": [],
   "source": [
    "%sql\n",
    "SELECT * FROM results;"
   ]
  },
  {
   "cell_type": "code",
   "execution_count": 0,
   "metadata": {
    "application/vnd.databricks.v1+cell": {
     "cellMetadata": {
      "byteLimit": 2048000,
      "implicitDf": true,
      "rowLimit": 10000
     },
     "inputWidgets": {},
     "nuid": "942a23dd-1641-47c7-aed6-7b71bfbc813e",
     "showTitle": false,
     "tableResultSettingsMap": {},
     "title": ""
    }
   },
   "outputs": [],
   "source": [
    "%sql\n",
    "DROP TABLE IF EXISTS pit_stops;\n",
    "CREATE TABLE IF NOT EXISTS pit_stops\n",
    "(\n",
    "  raceId     INT, \n",
    "driverId     INT,    \n",
    "stop     INT,        \n",
    "lap     INT,         \n",
    "time        STRING,\n",
    "duration STRING,    \n",
    "milliseconds INT\n",
    ")\n",
    "USING JSON\n",
    "OPTIONS (path \"/mnt/raw/pit_stops.json\", header \"true\", multiline \"true\")"
   ]
  },
  {
   "cell_type": "code",
   "execution_count": 0,
   "metadata": {
    "application/vnd.databricks.v1+cell": {
     "cellMetadata": {
      "byteLimit": 2048000,
      "implicitDf": true,
      "rowLimit": 10000
     },
     "inputWidgets": {},
     "nuid": "9a7b21dd-13e9-4a19-9ab0-7894d35a2596",
     "showTitle": false,
     "tableResultSettingsMap": {},
     "title": ""
    }
   },
   "outputs": [],
   "source": [
    "%sql\n",
    "SELECT * FROM pit_stops"
   ]
  },
  {
   "cell_type": "code",
   "execution_count": 0,
   "metadata": {
    "application/vnd.databricks.v1+cell": {
     "cellMetadata": {
      "byteLimit": 2048000,
      "rowLimit": 10000
     },
     "inputWidgets": {},
     "nuid": "3bd9cf35-c0d1-4621-bf47-22d9192947c1",
     "showTitle": false,
     "tableResultSettingsMap": {},
     "title": ""
    }
   },
   "outputs": [],
   "source": []
  }
 ],
 "metadata": {
  "application/vnd.databricks.v1+notebook": {
   "computePreferences": null,
   "dashboards": [],
   "environmentMetadata": {
    "base_environment": "",
    "environment_version": "2"
   },
   "inputWidgetPreferences": null,
   "language": "python",
   "notebookMetadata": {
    "mostRecentlyExecutedCommandWithImplicitDF": {
     "commandId": 8273500279712031,
     "dataframes": [
      "_sqldf"
     ]
    },
    "pythonIndentUnit": 4
   },
   "notebookName": "2.constructors_pitstops_drivers_results_load",
   "widgets": {}
  },
  "language_info": {
   "name": "python"
  }
 },
 "nbformat": 4,
 "nbformat_minor": 0
}
