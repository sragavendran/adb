{
 "cells": [
  {
   "cell_type": "code",
   "execution_count": 0,
   "metadata": {
    "application/vnd.databricks.v1+cell": {
     "cellMetadata": {
      "byteLimit": 2048000,
      "rowLimit": 10000
     },
     "inputWidgets": {},
     "nuid": "711f3e59-11e6-45a2-90b2-973dafa7d37f",
     "showTitle": false,
     "tableResultSettingsMap": {},
     "title": ""
    }
   },
   "outputs": [],
   "source": [
    "%run \"../commons/common_functions\"\n"
   ]
  },
  {
   "cell_type": "code",
   "execution_count": 0,
   "metadata": {
    "application/vnd.databricks.v1+cell": {
     "cellMetadata": {
      "byteLimit": 2048000,
      "rowLimit": 10000
     },
     "inputWidgets": {},
     "nuid": "6d41c883-3f83-4dd0-a2ef-e3129e6ae795",
     "showTitle": false,
     "tableResultSettingsMap": {},
     "title": ""
    }
   },
   "outputs": [],
   "source": [
    "%run \"../commons/configuration\""
   ]
  },
  {
   "cell_type": "code",
   "execution_count": 0,
   "metadata": {
    "application/vnd.databricks.v1+cell": {
     "cellMetadata": {
      "byteLimit": 2048000,
      "rowLimit": 10000
     },
     "inputWidgets": {},
     "nuid": "7571da3e-f566-4fad-8663-f0b7b188b173",
     "showTitle": false,
     "tableResultSettingsMap": {},
     "title": ""
    }
   },
   "outputs": [],
   "source": [
    "dbutils.widgets.text(\"env_name\",\"DEV\")\n",
    "p_env_name = dbutils.widgets.get(\"env_name\")"
   ]
  },
  {
   "cell_type": "code",
   "execution_count": 0,
   "metadata": {
    "application/vnd.databricks.v1+cell": {
     "cellMetadata": {
      "byteLimit": 2048000,
      "rowLimit": 10000
     },
     "inputWidgets": {},
     "nuid": "fd2bd181-054f-41b1-8026-c1730c21321b",
     "showTitle": false,
     "tableResultSettingsMap": {},
     "title": ""
    }
   },
   "outputs": [],
   "source": [
    "dbutils.widgets.text(\"file_date\",\"2021-03-28\")\n",
    "p_file_date = dbutils.widgets.get(\"file_date\")"
   ]
  },
  {
   "cell_type": "code",
   "execution_count": 0,
   "metadata": {
    "application/vnd.databricks.v1+cell": {
     "cellMetadata": {
      "byteLimit": 2048000,
      "rowLimit": 10000
     },
     "inputWidgets": {},
     "nuid": "666c64cf-d90f-4369-bed5-3593c160f91c",
     "showTitle": false,
     "tableResultSettingsMap": {},
     "title": ""
    }
   },
   "outputs": [],
   "source": [
    "from pyspark.sql.functions import current_timestamp\n",
    "from pyspark.sql.functions import to_timestamp, concat, lit, col\n",
    "from pyspark.sql.types import *\n",
    "\n",
    "\n",
    "result_schema = StructType([StructField(\"resultId\", IntegerType(), True), \n",
    "                            StructField(\"raceId\", IntegerType(), True), \n",
    "                            StructField(\"driverId\", IntegerType(), True), \n",
    "                            StructField(\"constructorId\", IntegerType(), True), \n",
    "                            StructField(\"number\", IntegerType(), True),\n",
    "                            StructField(\"grid\", IntegerType(), True),\n",
    "                            StructField(\"position\", IntegerType(), True),\n",
    "                            StructField(\"positionText\", StringType(), True),\n",
    "                            StructField(\"positionOrder\", IntegerType(), True),\n",
    "                            StructField(\"points\", FloatType(), True),\n",
    "                            StructField(\"lap\", IntegerType(), True),\n",
    "                            StructField(\"time\", StringType(), True),\n",
    "                            StructField(\"milliseconds\", IntegerType(), True),\n",
    "                            StructField(\"fastestLap\", IntegerType(), True),\n",
    "                            StructField(\"rank\", IntegerType(), True),\n",
    "                            StructField(\"fastestLapTime\", StringType(), True),\n",
    "                            StructField(\"fastestLapSpeed\", FloatType(), True),\n",
    "                            StructField(\"statusId\", StringType(), True)])\n",
    "\n",
    "results_df = spark.read.json(f\"{raw_mount_path}/{p_file_date}/results.json\", schema=result_schema)\\\n",
    "    .withColumnRenamed(\"resultId\", \"result_id\")\\\n",
    "    .withColumnRenamed(\"raceId\", \"race_id\")\\\n",
    "    .withColumnRenamed(\"driverId\", \"driver_id\")\\\n",
    "    .withColumnRenamed(\"constructorId\", \"constructor_id\")\\\n",
    "    .withColumnRenamed(\"positionText\", \"position_text\")\\\n",
    "    .withColumnRenamed(\"positionOrder\", \"position_order\")\\\n",
    "    .withColumnRenamed(\"fastestLapTime\", \"fastest_lap_time\")\\\n",
    "    .withColumnRenamed(\"fastestLap\", \"fastest_lap\")\\\n",
    "    .withColumnRenamed(\"fastestLapSpeed\", \"fastest_lap_speed\")\\\n",
    "    .drop(\"statusId\")\\\n",
    "    .withColumn(\"data_source\",lit(p_env_name))\\\n",
    "    .withColumn(\"file_date\",lit(p_file_date))\n"
   ]
  },
  {
   "cell_type": "code",
   "execution_count": 0,
   "metadata": {
    "application/vnd.databricks.v1+cell": {
     "cellMetadata": {
      "byteLimit": 2048000,
      "rowLimit": 10000
     },
     "inputWidgets": {},
     "nuid": "8548bb6e-afe8-4425-aadd-b93c618aad91",
     "showTitle": false,
     "tableResultSettingsMap": {},
     "title": ""
    }
   },
   "outputs": [],
   "source": [
    "for i in results_df.select(\"race_id\").distinct().collect():\n",
    "    if spark.catalog.tableExists(\"processed.results\"):\n",
    "        spark.sql(\"ALTER TABLE processed.results DROP IF EXISTS PARTITION (race_id = {})\".format(i.race_id))"
   ]
  },
  {
   "cell_type": "code",
   "execution_count": 0,
   "metadata": {
    "application/vnd.databricks.v1+cell": {
     "cellMetadata": {
      "byteLimit": 2048000,
      "rowLimit": 10000
     },
     "inputWidgets": {},
     "nuid": "a7cd340b-4733-4f95-a5e4-6236d5e6fec3",
     "showTitle": false,
     "tableResultSettingsMap": {},
     "title": ""
    }
   },
   "outputs": [],
   "source": [
    "results_df_v2 = add_ingestion_date(results_df)"
   ]
  },
  {
   "cell_type": "code",
   "execution_count": 0,
   "metadata": {
    "application/vnd.databricks.v1+cell": {
     "cellMetadata": {
      "byteLimit": 2048000,
      "rowLimit": 10000
     },
     "inputWidgets": {},
     "nuid": "9fbea483-f4b6-4a40-acd5-eb34de34018e",
     "showTitle": false,
     "tableResultSettingsMap": {},
     "title": ""
    }
   },
   "outputs": [],
   "source": [
    "#results_df_v2.write.parquet(f\"{processed_mount_path}/results\", mode=\"overwrite\", partitionBy=\"race_id\")\n",
    "results_df_v2.write.partitionBy(\"race_id\").mode(\"append\").format(\"parquet\").saveAsTable(\"processed.results\")"
   ]
  },
  {
   "cell_type": "code",
   "execution_count": 0,
   "metadata": {
    "application/vnd.databricks.v1+cell": {
     "cellMetadata": {
      "byteLimit": 2048000,
      "implicitDf": true,
      "rowLimit": 10000
     },
     "inputWidgets": {},
     "nuid": "ce0060de-1482-44fe-9f81-100b1cf4eaa4",
     "showTitle": false,
     "tableResultSettingsMap": {},
     "title": ""
    }
   },
   "outputs": [],
   "source": [
    "%sql\n",
    "SELECT race_id, count(1) FROM processed.results\n",
    "group by race_id\n",
    "order by 1 DESC"
   ]
  },
  {
   "cell_type": "code",
   "execution_count": 0,
   "metadata": {
    "application/vnd.databricks.v1+cell": {
     "cellMetadata": {
      "byteLimit": 2048000,
      "rowLimit": 10000
     },
     "inputWidgets": {},
     "nuid": "8b08b936-fb63-4403-acd5-b2ee1d76948b",
     "showTitle": false,
     "tableResultSettingsMap": {},
     "title": ""
    }
   },
   "outputs": [],
   "source": [
    "dbutils.notebook.exit(\"Success\")"
   ]
  },
  {
   "cell_type": "code",
   "execution_count": 0,
   "metadata": {
    "application/vnd.databricks.v1+cell": {
     "cellMetadata": {
      "byteLimit": 2048000,
      "rowLimit": 10000
     },
     "inputWidgets": {},
     "nuid": "1fa2aaf4-d3d9-4b09-8785-5bec725ee5b0",
     "showTitle": false,
     "tableResultSettingsMap": {},
     "title": ""
    }
   },
   "outputs": [],
   "source": []
  }
 ],
 "metadata": {
  "application/vnd.databricks.v1+notebook": {
   "computePreferences": null,
   "dashboards": [],
   "environmentMetadata": {
    "base_environment": "",
    "environment_version": "2"
   },
   "inputWidgetPreferences": null,
   "language": "python",
   "notebookMetadata": {
    "mostRecentlyExecutedCommandWithImplicitDF": {
     "commandId": 5729657377100775,
     "dataframes": [
      "_sqldf"
     ]
    },
    "pythonIndentUnit": 4
   },
   "notebookName": "5.results-load",
   "widgets": {
    "env_name": {
     "currentValue": "DEV",
     "nuid": "8f758ea8-9a16-45a3-8b55-8ad5c804bacd",
     "typedWidgetInfo": {
      "autoCreated": false,
      "defaultValue": "DEV",
      "label": null,
      "name": "env_name",
      "options": {
       "widgetDisplayType": "Text",
       "validationRegex": null
      },
      "parameterDataType": "String"
     },
     "widgetInfo": {
      "widgetType": "text",
      "defaultValue": "DEV",
      "label": null,
      "name": "env_name",
      "options": {
       "widgetType": "text",
       "autoCreated": null,
       "validationRegex": null
      }
     }
    },
    "file_date": {
     "currentValue": "2021-04-18",
     "nuid": "ac4df15e-2209-4b66-8ccb-74c367048c5f",
     "typedWidgetInfo": {
      "autoCreated": false,
      "defaultValue": "2021-03-28",
      "label": null,
      "name": "file_date",
      "options": {
       "widgetDisplayType": "Text",
       "validationRegex": null
      },
      "parameterDataType": "String"
     },
     "widgetInfo": {
      "widgetType": "text",
      "defaultValue": "2021-03-28",
      "label": null,
      "name": "file_date",
      "options": {
       "widgetType": "text",
       "autoCreated": null,
       "validationRegex": null
      }
     }
    }
   }
  },
  "language_info": {
   "name": "python"
  }
 },
 "nbformat": 4,
 "nbformat_minor": 0
}
